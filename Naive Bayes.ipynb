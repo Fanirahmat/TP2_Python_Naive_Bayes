{
 "cells": [
  {
   "cell_type": "code",
   "execution_count": 1,
   "id": "ce59be4b",
   "metadata": {},
   "outputs": [],
   "source": [
    "import numpy as np\n",
    "import pandas as pd\n",
    "import matplotlib.pyplot as plt\n",
    "import sklearn"
   ]
  },
  {
   "cell_type": "code",
   "execution_count": 9,
   "id": "34870f6b",
   "metadata": {},
   "outputs": [
    {
     "data": {
      "text/html": [
       "<div>\n",
       "<style scoped>\n",
       "    .dataframe tbody tr th:only-of-type {\n",
       "        vertical-align: middle;\n",
       "    }\n",
       "\n",
       "    .dataframe tbody tr th {\n",
       "        vertical-align: top;\n",
       "    }\n",
       "\n",
       "    .dataframe thead th {\n",
       "        text-align: right;\n",
       "    }\n",
       "</style>\n",
       "<table border=\"1\" class=\"dataframe\">\n",
       "  <thead>\n",
       "    <tr style=\"text-align: right;\">\n",
       "      <th></th>\n",
       "      <th>Jenis Kelamin</th>\n",
       "      <th>Umur Karyawan</th>\n",
       "      <th>Gaji</th>\n",
       "      <th>Status</th>\n",
       "      <th>Transportasi</th>\n",
       "    </tr>\n",
       "  </thead>\n",
       "  <tbody>\n",
       "    <tr>\n",
       "      <th>0</th>\n",
       "      <td>Laki-Laki</td>\n",
       "      <td>20</td>\n",
       "      <td>8000000</td>\n",
       "      <td>Single</td>\n",
       "      <td>Kendaraan pribadi</td>\n",
       "    </tr>\n",
       "    <tr>\n",
       "      <th>1</th>\n",
       "      <td>Laki-Laki</td>\n",
       "      <td>35</td>\n",
       "      <td>14000000</td>\n",
       "      <td>Single</td>\n",
       "      <td>Kendaraan umum</td>\n",
       "    </tr>\n",
       "    <tr>\n",
       "      <th>2</th>\n",
       "      <td>Perempuan</td>\n",
       "      <td>26</td>\n",
       "      <td>10000000</td>\n",
       "      <td>Single</td>\n",
       "      <td>Kendaraan umum</td>\n",
       "    </tr>\n",
       "    <tr>\n",
       "      <th>3</th>\n",
       "      <td>Perempuan</td>\n",
       "      <td>27</td>\n",
       "      <td>12000000</td>\n",
       "      <td>Menikah</td>\n",
       "      <td>Kendaraan pribadi</td>\n",
       "    </tr>\n",
       "    <tr>\n",
       "      <th>4</th>\n",
       "      <td>Laki-Laki</td>\n",
       "      <td>21</td>\n",
       "      <td>9000000</td>\n",
       "      <td>Single</td>\n",
       "      <td>Kendaraan pribadi</td>\n",
       "    </tr>\n",
       "  </tbody>\n",
       "</table>\n",
       "</div>"
      ],
      "text/plain": [
       "  Jenis Kelamin  Umur Karyawan      Gaji   Status       Transportasi\n",
       "0     Laki-Laki             20   8000000   Single  Kendaraan pribadi\n",
       "1     Laki-Laki             35  14000000   Single     Kendaraan umum\n",
       "2     Perempuan             26  10000000   Single     Kendaraan umum\n",
       "3     Perempuan             27  12000000  Menikah  Kendaraan pribadi\n",
       "4     Laki-Laki             21   9000000   Single  Kendaraan pribadi"
      ]
     },
     "execution_count": 9,
     "metadata": {},
     "output_type": "execute_result"
    }
   ],
   "source": [
    "dataset = pd.read_excel('dataset.xlsx')\n",
    "dataset.head()"
   ]
  },
  {
   "cell_type": "code",
   "execution_count": 10,
   "id": "89cc6042",
   "metadata": {},
   "outputs": [
    {
     "data": {
      "text/html": [
       "<div>\n",
       "<style scoped>\n",
       "    .dataframe tbody tr th:only-of-type {\n",
       "        vertical-align: middle;\n",
       "    }\n",
       "\n",
       "    .dataframe tbody tr th {\n",
       "        vertical-align: top;\n",
       "    }\n",
       "\n",
       "    .dataframe thead th {\n",
       "        text-align: right;\n",
       "    }\n",
       "</style>\n",
       "<table border=\"1\" class=\"dataframe\">\n",
       "  <thead>\n",
       "    <tr style=\"text-align: right;\">\n",
       "      <th></th>\n",
       "      <th>Jenis Kelamin</th>\n",
       "      <th>Umur Karyawan</th>\n",
       "      <th>Gaji</th>\n",
       "      <th>Status</th>\n",
       "      <th>Transportasi</th>\n",
       "    </tr>\n",
       "  </thead>\n",
       "  <tbody>\n",
       "    <tr>\n",
       "      <th>0</th>\n",
       "      <td>Laki-Laki</td>\n",
       "      <td>20</td>\n",
       "      <td>8000000</td>\n",
       "      <td>Single</td>\n",
       "      <td>Kendaraan pribadi</td>\n",
       "    </tr>\n",
       "    <tr>\n",
       "      <th>1</th>\n",
       "      <td>Laki-Laki</td>\n",
       "      <td>35</td>\n",
       "      <td>14000000</td>\n",
       "      <td>Single</td>\n",
       "      <td>Kendaraan umum</td>\n",
       "    </tr>\n",
       "    <tr>\n",
       "      <th>2</th>\n",
       "      <td>Perempuan</td>\n",
       "      <td>26</td>\n",
       "      <td>10000000</td>\n",
       "      <td>Single</td>\n",
       "      <td>Kendaraan umum</td>\n",
       "    </tr>\n",
       "    <tr>\n",
       "      <th>3</th>\n",
       "      <td>Perempuan</td>\n",
       "      <td>27</td>\n",
       "      <td>12000000</td>\n",
       "      <td>Menikah</td>\n",
       "      <td>Kendaraan pribadi</td>\n",
       "    </tr>\n",
       "    <tr>\n",
       "      <th>4</th>\n",
       "      <td>Laki-Laki</td>\n",
       "      <td>21</td>\n",
       "      <td>9000000</td>\n",
       "      <td>Single</td>\n",
       "      <td>Kendaraan pribadi</td>\n",
       "    </tr>\n",
       "    <tr>\n",
       "      <th>5</th>\n",
       "      <td>Laki-Laki</td>\n",
       "      <td>22</td>\n",
       "      <td>11000000</td>\n",
       "      <td>Single</td>\n",
       "      <td>Kendaraan pribadi</td>\n",
       "    </tr>\n",
       "    <tr>\n",
       "      <th>6</th>\n",
       "      <td>Perempuan</td>\n",
       "      <td>32</td>\n",
       "      <td>15000000</td>\n",
       "      <td>Menikah</td>\n",
       "      <td>Kendaraan umum</td>\n",
       "    </tr>\n",
       "    <tr>\n",
       "      <th>7</th>\n",
       "      <td>Perempuan</td>\n",
       "      <td>26</td>\n",
       "      <td>8000000</td>\n",
       "      <td>Menikah</td>\n",
       "      <td>Kendaraan umum</td>\n",
       "    </tr>\n",
       "    <tr>\n",
       "      <th>8</th>\n",
       "      <td>Laki-Laki</td>\n",
       "      <td>25</td>\n",
       "      <td>9000000</td>\n",
       "      <td>Single</td>\n",
       "      <td>Kendaraan umum</td>\n",
       "    </tr>\n",
       "    <tr>\n",
       "      <th>9</th>\n",
       "      <td>Perempuan</td>\n",
       "      <td>20</td>\n",
       "      <td>10000000</td>\n",
       "      <td>Single</td>\n",
       "      <td>Kendaraan pribadi</td>\n",
       "    </tr>\n",
       "  </tbody>\n",
       "</table>\n",
       "</div>"
      ],
      "text/plain": [
       "  Jenis Kelamin  Umur Karyawan      Gaji   Status       Transportasi\n",
       "0     Laki-Laki             20   8000000   Single  Kendaraan pribadi\n",
       "1     Laki-Laki             35  14000000   Single     Kendaraan umum\n",
       "2     Perempuan             26  10000000   Single     Kendaraan umum\n",
       "3     Perempuan             27  12000000  Menikah  Kendaraan pribadi\n",
       "4     Laki-Laki             21   9000000   Single  Kendaraan pribadi\n",
       "5     Laki-Laki             22  11000000   Single  Kendaraan pribadi\n",
       "6     Perempuan             32  15000000  Menikah     Kendaraan umum\n",
       "7     Perempuan             26   8000000  Menikah     Kendaraan umum\n",
       "8     Laki-Laki             25   9000000   Single     Kendaraan umum\n",
       "9     Perempuan             20  10000000   Single  Kendaraan pribadi"
      ]
     },
     "execution_count": 10,
     "metadata": {},
     "output_type": "execute_result"
    }
   ],
   "source": [
    "dataset"
   ]
  },
  {
   "cell_type": "code",
   "execution_count": 16,
   "id": "c98d230d",
   "metadata": {},
   "outputs": [],
   "source": [
    "x = dataset.iloc[:, :4].values\n",
    "y = dataset.iloc[:, 4].values"
   ]
  },
  {
   "cell_type": "code",
   "execution_count": 17,
   "id": "6f3b8ef0",
   "metadata": {},
   "outputs": [
    {
     "name": "stdout",
     "output_type": "stream",
     "text": [
      "[['Laki-Laki' 20 8000000 'Single']\n",
      " ['Laki-Laki' 35 14000000 'Single']\n",
      " ['Perempuan' 26 10000000 'Single']\n",
      " ['Perempuan' 27 12000000 'Menikah']\n",
      " ['Laki-Laki' 21 9000000 'Single']\n",
      " ['Laki-Laki' 22 11000000 'Single']\n",
      " ['Perempuan' 32 15000000 'Menikah']\n",
      " ['Perempuan' 26 8000000 'Menikah']\n",
      " ['Laki-Laki' 25 9000000 'Single']\n",
      " ['Perempuan' 20 10000000 'Single']]\n"
     ]
    }
   ],
   "source": [
    "print(x)"
   ]
  },
  {
   "cell_type": "code",
   "execution_count": 18,
   "id": "1b92b409",
   "metadata": {},
   "outputs": [
    {
     "name": "stdout",
     "output_type": "stream",
     "text": [
      "['Kendaraan pribadi' 'Kendaraan umum' 'Kendaraan umum' 'Kendaraan pribadi'\n",
      " 'Kendaraan pribadi' 'Kendaraan pribadi' 'Kendaraan umum' 'Kendaraan umum'\n",
      " 'Kendaraan umum' 'Kendaraan pribadi']\n"
     ]
    }
   ],
   "source": [
    "print(y)"
   ]
  },
  {
   "cell_type": "code",
   "execution_count": 21,
   "id": "1f513bfb",
   "metadata": {},
   "outputs": [],
   "source": [
    "from sklearn.preprocessing import LabelEncoder"
   ]
  },
  {
   "cell_type": "code",
   "execution_count": 24,
   "id": "389694c1",
   "metadata": {},
   "outputs": [],
   "source": [
    "le = LabelEncoder()\n",
    "\n",
    "x[:,0] = le.fit_transform(x[:,0])\n",
    "x[:,3] = le.fit_transform(x[:,3])"
   ]
  },
  {
   "cell_type": "code",
   "execution_count": 25,
   "id": "1f4dde25",
   "metadata": {},
   "outputs": [
    {
     "name": "stdout",
     "output_type": "stream",
     "text": [
      "[[0 20 8000000 1]\n",
      " [0 35 14000000 1]\n",
      " [1 26 10000000 1]\n",
      " [1 27 12000000 0]\n",
      " [0 21 9000000 1]\n",
      " [0 22 11000000 1]\n",
      " [1 32 15000000 0]\n",
      " [1 26 8000000 0]\n",
      " [0 25 9000000 1]\n",
      " [1 20 10000000 1]]\n"
     ]
    }
   ],
   "source": [
    "print(x)"
   ]
  },
  {
   "cell_type": "code",
   "execution_count": 27,
   "id": "64b5542b",
   "metadata": {},
   "outputs": [
    {
     "name": "stdout",
     "output_type": "stream",
     "text": [
      "[0 1 1 0 0 0 1 1 1 0]\n"
     ]
    }
   ],
   "source": [
    "y = le.fit_transform(y)\n",
    "print(y)"
   ]
  },
  {
   "cell_type": "code",
   "execution_count": 28,
   "id": "0027a8d9",
   "metadata": {},
   "outputs": [],
   "source": [
    "from sklearn.model_selection import train_test_split"
   ]
  },
  {
   "cell_type": "code",
   "execution_count": 30,
   "id": "e3249b19",
   "metadata": {},
   "outputs": [],
   "source": [
    "x_train, x_test, y_train, y_test = train_test_split(x,y, test_size = 0.2, random_state = 0)"
   ]
  },
  {
   "cell_type": "code",
   "execution_count": 31,
   "id": "706e5496",
   "metadata": {},
   "outputs": [
    {
     "name": "stdout",
     "output_type": "stream",
     "text": [
      "[[0 21 9000000 1]\n",
      " [1 20 10000000 1]\n",
      " [0 35 14000000 1]\n",
      " [1 32 15000000 0]\n",
      " [1 26 8000000 0]\n",
      " [1 27 12000000 0]\n",
      " [0 20 8000000 1]\n",
      " [0 22 11000000 1]]\n"
     ]
    }
   ],
   "source": [
    "print(x_train)"
   ]
  },
  {
   "cell_type": "code",
   "execution_count": 32,
   "id": "9e77cc54",
   "metadata": {},
   "outputs": [
    {
     "name": "stdout",
     "output_type": "stream",
     "text": [
      "[[1 26 10000000 1]\n",
      " [0 25 9000000 1]]\n"
     ]
    }
   ],
   "source": [
    "print(x_test)"
   ]
  },
  {
   "cell_type": "code",
   "execution_count": 33,
   "id": "ec42d90b",
   "metadata": {},
   "outputs": [],
   "source": [
    "from sklearn.preprocessing import StandardScaler"
   ]
  },
  {
   "cell_type": "code",
   "execution_count": 34,
   "id": "e722d08c",
   "metadata": {},
   "outputs": [],
   "source": [
    "sc = StandardScaler()\n",
    "x_train = sc.fit_transform(x_train)\n",
    "x_test = sc.fit_transform(x_test)"
   ]
  },
  {
   "cell_type": "code",
   "execution_count": 35,
   "id": "291fe788",
   "metadata": {},
   "outputs": [
    {
     "name": "stdout",
     "output_type": "stream",
     "text": [
      "[[-1.         -0.81973732 -0.75858261  0.77459667]\n",
      " [ 1.         -1.00710586 -0.35400522  0.77459667]\n",
      " [-1.          1.80342211  1.26430434  0.77459667]\n",
      " [ 1.          1.24131652  1.66888173 -1.29099445]\n",
      " [ 1.          0.11710533 -1.16316    -1.29099445]\n",
      " [ 1.          0.30447386  0.45514956 -1.29099445]\n",
      " [-1.         -1.00710586 -1.16316     0.77459667]\n",
      " [-1.         -0.63236879  0.05057217  0.77459667]]\n"
     ]
    }
   ],
   "source": [
    "print(x_train)"
   ]
  },
  {
   "cell_type": "code",
   "execution_count": 36,
   "id": "9e22b84f",
   "metadata": {},
   "outputs": [],
   "source": [
    "from sklearn.naive_bayes import GaussianNB"
   ]
  },
  {
   "cell_type": "code",
   "execution_count": 37,
   "id": "44d82707",
   "metadata": {},
   "outputs": [
    {
     "data": {
      "text/html": [
       "<style>#sk-container-id-1 {color: black;background-color: white;}#sk-container-id-1 pre{padding: 0;}#sk-container-id-1 div.sk-toggleable {background-color: white;}#sk-container-id-1 label.sk-toggleable__label {cursor: pointer;display: block;width: 100%;margin-bottom: 0;padding: 0.3em;box-sizing: border-box;text-align: center;}#sk-container-id-1 label.sk-toggleable__label-arrow:before {content: \"▸\";float: left;margin-right: 0.25em;color: #696969;}#sk-container-id-1 label.sk-toggleable__label-arrow:hover:before {color: black;}#sk-container-id-1 div.sk-estimator:hover label.sk-toggleable__label-arrow:before {color: black;}#sk-container-id-1 div.sk-toggleable__content {max-height: 0;max-width: 0;overflow: hidden;text-align: left;background-color: #f0f8ff;}#sk-container-id-1 div.sk-toggleable__content pre {margin: 0.2em;color: black;border-radius: 0.25em;background-color: #f0f8ff;}#sk-container-id-1 input.sk-toggleable__control:checked~div.sk-toggleable__content {max-height: 200px;max-width: 100%;overflow: auto;}#sk-container-id-1 input.sk-toggleable__control:checked~label.sk-toggleable__label-arrow:before {content: \"▾\";}#sk-container-id-1 div.sk-estimator input.sk-toggleable__control:checked~label.sk-toggleable__label {background-color: #d4ebff;}#sk-container-id-1 div.sk-label input.sk-toggleable__control:checked~label.sk-toggleable__label {background-color: #d4ebff;}#sk-container-id-1 input.sk-hidden--visually {border: 0;clip: rect(1px 1px 1px 1px);clip: rect(1px, 1px, 1px, 1px);height: 1px;margin: -1px;overflow: hidden;padding: 0;position: absolute;width: 1px;}#sk-container-id-1 div.sk-estimator {font-family: monospace;background-color: #f0f8ff;border: 1px dotted black;border-radius: 0.25em;box-sizing: border-box;margin-bottom: 0.5em;}#sk-container-id-1 div.sk-estimator:hover {background-color: #d4ebff;}#sk-container-id-1 div.sk-parallel-item::after {content: \"\";width: 100%;border-bottom: 1px solid gray;flex-grow: 1;}#sk-container-id-1 div.sk-label:hover label.sk-toggleable__label {background-color: #d4ebff;}#sk-container-id-1 div.sk-serial::before {content: \"\";position: absolute;border-left: 1px solid gray;box-sizing: border-box;top: 0;bottom: 0;left: 50%;z-index: 0;}#sk-container-id-1 div.sk-serial {display: flex;flex-direction: column;align-items: center;background-color: white;padding-right: 0.2em;padding-left: 0.2em;position: relative;}#sk-container-id-1 div.sk-item {position: relative;z-index: 1;}#sk-container-id-1 div.sk-parallel {display: flex;align-items: stretch;justify-content: center;background-color: white;position: relative;}#sk-container-id-1 div.sk-item::before, #sk-container-id-1 div.sk-parallel-item::before {content: \"\";position: absolute;border-left: 1px solid gray;box-sizing: border-box;top: 0;bottom: 0;left: 50%;z-index: -1;}#sk-container-id-1 div.sk-parallel-item {display: flex;flex-direction: column;z-index: 1;position: relative;background-color: white;}#sk-container-id-1 div.sk-parallel-item:first-child::after {align-self: flex-end;width: 50%;}#sk-container-id-1 div.sk-parallel-item:last-child::after {align-self: flex-start;width: 50%;}#sk-container-id-1 div.sk-parallel-item:only-child::after {width: 0;}#sk-container-id-1 div.sk-dashed-wrapped {border: 1px dashed gray;margin: 0 0.4em 0.5em 0.4em;box-sizing: border-box;padding-bottom: 0.4em;background-color: white;}#sk-container-id-1 div.sk-label label {font-family: monospace;font-weight: bold;display: inline-block;line-height: 1.2em;}#sk-container-id-1 div.sk-label-container {text-align: center;}#sk-container-id-1 div.sk-container {/* jupyter's `normalize.less` sets `[hidden] { display: none; }` but bootstrap.min.css set `[hidden] { display: none !important; }` so we also need the `!important` here to be able to override the default hidden behavior on the sphinx rendered scikit-learn.org. See: https://github.com/scikit-learn/scikit-learn/issues/21755 */display: inline-block !important;position: relative;}#sk-container-id-1 div.sk-text-repr-fallback {display: none;}</style><div id=\"sk-container-id-1\" class=\"sk-top-container\"><div class=\"sk-text-repr-fallback\"><pre>GaussianNB()</pre><b>In a Jupyter environment, please rerun this cell to show the HTML representation or trust the notebook. <br />On GitHub, the HTML representation is unable to render, please try loading this page with nbviewer.org.</b></div><div class=\"sk-container\" hidden><div class=\"sk-item\"><div class=\"sk-estimator sk-toggleable\"><input class=\"sk-toggleable__control sk-hidden--visually\" id=\"sk-estimator-id-1\" type=\"checkbox\" checked><label for=\"sk-estimator-id-1\" class=\"sk-toggleable__label sk-toggleable__label-arrow\">GaussianNB</label><div class=\"sk-toggleable__content\"><pre>GaussianNB()</pre></div></div></div></div></div>"
      ],
      "text/plain": [
       "GaussianNB()"
      ]
     },
     "execution_count": 37,
     "metadata": {},
     "output_type": "execute_result"
    }
   ],
   "source": [
    "classifier = GaussianNB()\n",
    "classifier.fit(x_train, y_train)"
   ]
  },
  {
   "cell_type": "code",
   "execution_count": 38,
   "id": "3780a3c0",
   "metadata": {},
   "outputs": [],
   "source": [
    "y_pred = classifier.predict(x_test)"
   ]
  },
  {
   "cell_type": "code",
   "execution_count": 39,
   "id": "09363559",
   "metadata": {},
   "outputs": [
    {
     "name": "stdout",
     "output_type": "stream",
     "text": [
      "[1 0]\n"
     ]
    }
   ],
   "source": [
    "print(y_pred)"
   ]
  },
  {
   "cell_type": "code",
   "execution_count": 40,
   "id": "f04c78e3",
   "metadata": {},
   "outputs": [
    {
     "name": "stdout",
     "output_type": "stream",
     "text": [
      "[1 1]\n"
     ]
    }
   ],
   "source": [
    "print(y_test)"
   ]
  },
  {
   "cell_type": "code",
   "execution_count": 41,
   "id": "bbbfc2ff",
   "metadata": {},
   "outputs": [
    {
     "data": {
      "text/html": [
       "<div>\n",
       "<style scoped>\n",
       "    .dataframe tbody tr th:only-of-type {\n",
       "        vertical-align: middle;\n",
       "    }\n",
       "\n",
       "    .dataframe tbody tr th {\n",
       "        vertical-align: top;\n",
       "    }\n",
       "\n",
       "    .dataframe thead th {\n",
       "        text-align: right;\n",
       "    }\n",
       "</style>\n",
       "<table border=\"1\" class=\"dataframe\">\n",
       "  <thead>\n",
       "    <tr style=\"text-align: right;\">\n",
       "      <th></th>\n",
       "      <th>Jenis Kelamin</th>\n",
       "      <th>Umur Karyawan</th>\n",
       "      <th>Gaji</th>\n",
       "      <th>Status</th>\n",
       "    </tr>\n",
       "  </thead>\n",
       "  <tbody>\n",
       "    <tr>\n",
       "      <th>0</th>\n",
       "      <td>Perempuan</td>\n",
       "      <td>27</td>\n",
       "      <td>12000000</td>\n",
       "      <td>Single</td>\n",
       "    </tr>\n",
       "    <tr>\n",
       "      <th>1</th>\n",
       "      <td>Laki-Laki</td>\n",
       "      <td>35</td>\n",
       "      <td>14000000</td>\n",
       "      <td>Menikah</td>\n",
       "    </tr>\n",
       "  </tbody>\n",
       "</table>\n",
       "</div>"
      ],
      "text/plain": [
       "  Jenis Kelamin  Umur Karyawan      Gaji   Status\n",
       "0     Perempuan             27  12000000   Single\n",
       "1     Laki-Laki             35  14000000  Menikah"
      ]
     },
     "execution_count": 41,
     "metadata": {},
     "output_type": "execute_result"
    }
   ],
   "source": [
    "datatest = pd.read_excel('datatest.xlsx')\n",
    "datatest"
   ]
  },
  {
   "cell_type": "code",
   "execution_count": 44,
   "id": "1a99af2d",
   "metadata": {},
   "outputs": [
    {
     "name": "stdout",
     "output_type": "stream",
     "text": [
      "[['Perempuan' 27 12000000 'Single']\n",
      " ['Laki-Laki' 35 14000000 'Menikah']]\n"
     ]
    }
   ],
   "source": [
    "z = datatest.iloc[:, :4].values\n",
    "print(z)"
   ]
  },
  {
   "cell_type": "code",
   "execution_count": 45,
   "id": "fadaa4a9",
   "metadata": {},
   "outputs": [
    {
     "name": "stdout",
     "output_type": "stream",
     "text": [
      "[[1 27 12000000 1]\n",
      " [0 35 14000000 0]]\n"
     ]
    }
   ],
   "source": [
    "z[:,0] = le.fit_transform(z[:,0])\n",
    "z[:,3] = le.fit_transform(z[:,3])\n",
    "print(z)"
   ]
  },
  {
   "cell_type": "code",
   "execution_count": 48,
   "id": "bad056f3",
   "metadata": {},
   "outputs": [
    {
     "name": "stdout",
     "output_type": "stream",
     "text": [
      "[1 1]\n"
     ]
    }
   ],
   "source": [
    "z_pred = classifier.predict(z)\n",
    "print(z_pred)"
   ]
  },
  {
   "cell_type": "code",
   "execution_count": null,
   "id": "9085f215",
   "metadata": {},
   "outputs": [],
   "source": []
  }
 ],
 "metadata": {
  "kernelspec": {
   "display_name": "Python 3 (ipykernel)",
   "language": "python",
   "name": "python3"
  },
  "language_info": {
   "codemirror_mode": {
    "name": "ipython",
    "version": 3
   },
   "file_extension": ".py",
   "mimetype": "text/x-python",
   "name": "python",
   "nbconvert_exporter": "python",
   "pygments_lexer": "ipython3",
   "version": "3.10.9"
  }
 },
 "nbformat": 4,
 "nbformat_minor": 5
}
